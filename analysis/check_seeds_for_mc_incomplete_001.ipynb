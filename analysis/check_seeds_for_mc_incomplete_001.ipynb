{
 "cells": [
  {
   "cell_type": "code",
   "execution_count": 7,
   "metadata": {},
   "outputs": [],
   "source": [
    "import pandas as pd\n",
    "\n",
    "import numpy as np\n",
    "from matplotlib import pyplot as plt\n",
    "from scipy import stats\n",
    "\n"
   ]
  },
  {
   "cell_type": "code",
   "execution_count": 13,
   "metadata": {},
   "outputs": [
    {
     "name": "stdout",
     "output_type": "stream",
     "text": [
      "Multicellular: 1176\n",
      "Multicellular: 1082\n",
      "Multicellular: 1111\n",
      "Multicellular: 1136\n",
      "Multicellular: 1123\n",
      "Multicellular: 1065\n",
      "Multicellular: 1025\n",
      "Multicellular: 1108\n",
      "Multicellular: 1181\n",
      "Multicellular: 1278\n",
      "Number of reps: 300\n",
      "Multicellular\n",
      "[1025, 1065, 1082, 1108, 1111, 1123, 1136, 1176, 1181, 1278]\n",
      "DNFS\n",
      "[]\n"
     ]
    }
   ],
   "source": [
    "dirname = \"/Users/kgskocelas/Research/mt_results/run3/treat=rogue3\"\n",
    "\n",
    "fname = dirname + \"/output.txt\"\n",
    "\n",
    "\n",
    "curFile = open(fname, 'r')\n",
    "cur_rep = \"\"\n",
    "num_rep = 0\n",
    "mcs = []\n",
    "dnfs = []\n",
    "\n",
    "for line in curFile:\n",
    "    if line.strip(): \n",
    "        splitLine = line.strip().split()\n",
    "        \n",
    "        if (splitLine[0] == \"==>\"): \n",
    "            rep = splitLine[1]\n",
    "            cur_rep = rep.split(\"/\")[1]\n",
    "            cur_rep = cur_rep.replace(\"a_\", \"\")\n",
    "            \n",
    "            num_rep += 1\n",
    "        else: \n",
    "\n",
    "            if (float(splitLine[5]) >= 2): \n",
    "                print (\"Multicellular: \" +  cur_rep)\n",
    "                int_rep = int(cur_rep)\n",
    "                mcs.append(int_rep)\n",
    "\n",
    "\n",
    "            elif (splitLine[0] != \"1999900\"): \n",
    "                print (\"Did not finish: \" + cur_rep + \" \" + splitLine[0])\n",
    "                int_rep = int(cur_rep)\n",
    "                dnfs.append(int_rep)\n",
    "            \n",
    "print(\"Number of reps: \" + str(num_rep))\n",
    "print(\"Multicellular\")\n",
    "mcs.sort()\n",
    "print(mcs)\n",
    "print(\"DNFS\")\n",
    "dnfs.sort()\n",
    "print(dnfs)\n",
    "\n",
    "            \n",
    "        \n",
    "    \n",
    "    \n",
    "\n",
    "        \n"
   ]
  },
  {
   "cell_type": "code",
   "execution_count": null,
   "metadata": {},
   "outputs": [],
   "source": []
  }
 ],
 "metadata": {
  "kernelspec": {
   "display_name": "Python 3",
   "language": "python",
   "name": "python3"
  },
  "language_info": {
   "codemirror_mode": {
    "name": "ipython",
    "version": 3
   },
   "file_extension": ".py",
   "mimetype": "text/x-python",
   "name": "python",
   "nbconvert_exporter": "python",
   "pygments_lexer": "ipython3",
   "version": "3.7.4"
  }
 },
 "nbformat": 4,
 "nbformat_minor": 2
}
